{
 "cells": [
  {
   "cell_type": "markdown",
   "metadata": {
    "id": "PZ_X7Ae6WUO6"
   },
   "source": [
    "**1. Spark cluster load data từ database như nào?**"
   ]
  },
  {
   "cell_type": "markdown",
   "metadata": {
    "id": "fJQWvqesWlT5"
   },
   "source": [
    "- Nếu file nhỏ thì load bình thường không cần chia partition."
   ]
  },
  {
   "cell_type": "markdown",
   "metadata": {
    "id": "bPzmT7UJWjKJ"
   },
   "source": [
    "- Nếu file lớn như bảng admissions thì phải chia thành partition để tận dụng khả năng load song song của spark cluster. Ví dụ:"
   ]
  },
  {
   "cell_type": "code",
   "execution_count": null,
   "metadata": {
    "id": "eOKMlfbHWe3p"
   },
   "outputs": [],
   "source": [
    "            \"admissions\": {\n",
    "                \"partition_column\": \"hadm_id\",\n",
    "                \"partition_bounds\": (20000000, 30000000),\n",
    "                \"num_partitions\": 10,\n",
    "                \"fetch_size\": \"50000\"\n",
    "            },"
   ]
  },
  {
   "cell_type": "markdown",
   "metadata": {
    "id": "__agU6ETW4FB"
   },
   "source": [
    "- Giải thích:\n",
    "  - patition_column: cột để chia partition.\n",
    "  - Khoảng giá trị min/max của cột hadm_id\n",
    "  - num_partitions: số partition được seperate ra"
   ]
  },
  {
   "cell_type": "markdown",
   "metadata": {
    "id": "GCLyh4XvXOiX"
   },
   "source": [
    "- Cụ thể:\n",
    "  - Như ví dụ trên, cột hadm_id có miền giá trị nằm trong khoảng (20 triệu - 30 triệu) => Range = 10 triệu.\n",
    "  - Chia thành 10 partition thì mỗi partition sẽ tương ứng với khoảng 100000 dòng.\n",
    "    - Partition 1: 20 triệu <= hadm_id < 21 triệu\n",
    "    - Partition 2: 21 triệu <= hadm_id < 22 triệu\n",
    "    - ...\n",
    "    - Partition 10: 29 triệu <= hadm_id <= 30 triệu\n",
    "  - Sau đó spark sẽ sinh ra 10 query song song kiểu:\n",
    "    - SELECT * FROM admissions\n",
    "      WHERE hadm_id >= 20000000 AND hadm_id < 21000000;\n",
    "    - SELECT * FROM admissions\n",
    "      WHERE hadm_id >= 21000000 AND hadm_id < 22000000;\n",
    "    - ...\n",
    "\n",
    "    -> Mỗi query được coi là 1 task và được gắn cho 1 core trong 1 spark worker node. Core này sẽ đảm nhiệm vai trò hoàn thành task này."
   ]
  },
  {
   "cell_type": "markdown",
   "metadata": {
    "id": "EyqcZWKmZSE4"
   },
   "source": [
    "**2. Nếu chỉ có 3 spark worker mà có đến 10 partition thì sao?**"
   ]
  },
  {
   "cell_type": "markdown",
   "metadata": {
    "id": "Pi3syhpEZaeh"
   },
   "source": [
    "- Đầu tiên, cần biết mỗi spark worker có bao nhiêu core. Giả sử, mỗi worker có 2 cores thì tổng số core sẽ là 6.\n",
    "- 10 partition sẽ được chia thành 10 task.\n",
    "\n",
    "=> **Spark cluster sẽ phân phối như sau:**\n",
    "  - Lập lịch để thực thi 10 task này: 6 tasks đầu phân cho 6 cores thực thi trước -> sau đó, cái nào xong trước thì sẽ được phân task cho thực hiện tiếp đến khi hết task thì thôi."
   ]
  },
  {
   "cell_type": "markdown",
   "metadata": {
    "id": "op11zuIVaNBB"
   },
   "source": [
    "**3. Nên chia số lượng partition như nào cho hợp lý**:"
   ]
  },
  {
   "cell_type": "markdown",
   "metadata": {
    "id": "Qzk5OZVJaTWx"
   },
   "source": [
    "- Nếu bảng quá nhỏ không cần chia task.\n"
   ]
  },
  {
   "cell_type": "markdown",
   "metadata": {
    "id": "B5czOfazaXb4"
   },
   "source": [
    "- Nếu bảng lớn (tính bằng GB trở lên):\n",
    "  - Số lượng partition (khuyển nghị) = 3-5 x số core. Ví dụ: có 6 core thì nên chia ít nhất là 18 tasks. Lý do: Để Spark có thể lập lịch, thực hiện từ 3-5 lượt là đẹp.\n",
    "\n",
    "  ! Không nên chia ra quá nhiều partition, vì:\n",
    "    - Công sức thằng spark-master nó quản lý, phân phối task cũng quá tội.\n",
    "    - Số lượt đọc/ghi nhiều hơn (đọc/ghi rất tốn time)\n",
    "    - 1 số trường hợp cần tách ra rồi ghép lại (map/reduce) thì cũng phức tạp, tốn tài nguyên hơn.  \n",
    "    \n",
    "  ! Nhưng cũng không nên chia ra quá ít partition, vì:\n",
    "    - Sẽ lãng phí thời gian và năng lực tính toán. Ví dụ: Có 6 cores nhưng mà chỉ có 2 partitions, thì tức là có 2 cores làm việc thôi còn 4 cores sẽ ngồi chơi (như vậy sẽ không tận dụng được 4 thằng này để làm giảm thời gian)"
   ]
  },
  {
   "cell_type": "markdown",
   "metadata": {
    "id": "myq44dGDcgeh"
   },
   "source": [
    "**4. Postgres nhận cùng lúc 6-10 query (hoặc nhiều hơn) từ các spark worker thì nó có bị bottle neck không?**"
   ]
  },
  {
   "cell_type": "markdown",
   "metadata": {
    "id": "sLg6Za6cdPJA"
   },
   "source": [
    "- PostgreSQL không biết gì về Spark, nó chỉ thấy có 10 client connections (từ Spark executors) gửi query song song -> Nên nó sẽ tạo 10 luồng để đáp ứng nhu cầu của 10 connection này **(miễn là máy đủ tài nguyên)**."
   ]
  },
  {
   "cell_type": "markdown",
   "metadata": {
    "id": "KJ8YXsuud1A5"
   },
   "source": [
    "- Nếu không đủ tài nguyên thì các query sẽ tranh nhau CPU/RAM/I/O... (cái này trong môn Vi xử lý ở đại học có dạy, lúc nào đọc lại)"
   ]
  },
  {
   "cell_type": "markdown",
   "metadata": {
    "id": "X1I-IcV2eK65"
   },
   "source": [
    "**👉 Nói nôm na: song song ở Spark → song song ở PostgreSQL, miễn là server chịu nổi.**"
   ]
  },
  {
   "cell_type": "markdown",
   "metadata": {
    "id": "vMhT7oKBeSJJ"
   },
   "source": [
    "**5. Cách chọn partitionColumn như nào?**"
   ]
  },
  {
   "cell_type": "markdown",
   "metadata": {
    "id": "n08vioineXQx"
   },
   "source": [
    "- **Không phải cột nào cũng chọn làm partitionColumn được, cần ít nhất 3 tiêu chí:**\n",
    "  - **Nên là dạng Numeric hoặc Date/Timestamp**: vì cần chia khoảng.\n",
    "  - **Phân bố đều là tốt nhất (ít Null càng tốt) tránh partition bị lệch**. Ví dụ: Giả sử, cột hadm_id ở trên đa số bản ghi có hadm_id nằm trong khoảng 25 - 26 triệu, các khoảng còn lại có rất ít bản ghi. Thì sẽ có 1 thằng cores được giao task đọc các bản ghi có hadm_id nằm trong khoảng 25-26 triệu sẽ phải đọc cật lực, đọc rất lâu. Trong khi các thằng cores khác làm xong việc từ lâu, ngồi chơi rồi => Không tối ưu.\n",
    "  - **Ít lặp giá trị**: Thử tưởng tượng dùng 1 cột flag chỉ có giá trị 0, 1 để chia partition đã thấy nó dở hơi rồi. Chả chia ra được bao nhiêu partition cả."
   ]
  },
  {
   "cell_type": "markdown",
   "metadata": {
    "id": "dF3_5BTsgeGh"
   },
   "source": [
    "**=> Thường chọn các cột ID, hoặc các cột liên quan đến Date/Time**"
   ]
  },
  {
   "cell_type": "markdown",
   "metadata": {
    "id": "NXcvIqCDgn3H"
   },
   "source": [
    "**6. Mỗi partition cũng tương ứng với 1 cái file .parquet nhỏ đúng không?**"
   ]
  },
  {
   "cell_type": "markdown",
   "metadata": {
    "id": "cUObrq4Tg-io"
   },
   "source": [
    "- **Đúng luôn :)))** Nếu có 10 partition -> 10 task được gán cho Spark -> Spark xử lý 1 task (hay 1 partition) xong thì sẽ ghi luôn nó thành 1 file .parquet nhỏ.\n",
    "- **Tóm lại: số partition = số parquet (kiểu có bảng admissions chia thành 10 partitions thì đọc/ghi 1 hồi thì sẽ tạo ra 10 file .parquet**"
   ]
  },
  {
   "cell_type": "markdown",
   "metadata": {
    "id": "7ubYQ_xVhYtI"
   },
   "source": [
    "![image.png](data:image/png;base64,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)"
   ]
  },
  {
   "cell_type": "markdown",
   "metadata": {
    "id": "y5Sx6qEdiES5"
   },
   "source": [
    "=> **Cái việc chia partition theo khoảng rồi ghi thành parquet như này có 1 lợi ích siêu to lớn. Đó là, các file .parquet được tạo ra bản thân nó cũng đã được partition.**\n",
    "  - Ví dụ, nếu có cần 1 bản ghi có hadm_id nằm trong khoảng 21-22 triệu thì chỉ cần đọc đúng file part-00001-xxxx-.snapy.parquet lên và tìm trong đó là được. Tiết kiệm rất nhiều tài nguyên máy (I/O/RAM/Bus), lại còn siêu tiết kiệm thời gian.\n",
    "  - Về phần làm sao biết được file .parquet này là chứa dữ liệu tương ứng với khoảng giá trị nào, thì yên tâm metadata của file parquet to nó có lưu lại thông tin min/max value của mỗi khoảng rồi."
   ]
  },
  {
   "cell_type": "markdown",
   "metadata": {
    "id": "n83SKzvIj4r_"
   },
   "source": [
    "**7. Còn fetch_size thì sao, nó là gì và dựa vào đâu để định giá trị cho nó?**"
   ]
  },
  {
   "cell_type": "markdown",
   "metadata": {
    "id": "D5TBz4PC1FRP"
   },
   "source": [
    "- **Postgres không thể đọc data từ disk rồi chuyển cho Spark luôn được**, mà nó cần phải load lên RAM trước, xong mới chuyển sang cho Spark.\n",
    "\n",
    "- **Vì sao lại phải load lên RAM trước?** Lý do là, nó cần phải áp dụng filter, join, index scan,... kiểu như là phải lọc dữ liệu theo điều kiện where lên RAM trước, rồi dữ liệu đó mới stream sang cho Spark được."
   ]
  },
  {
   "cell_type": "markdown",
   "metadata": {
    "id": "3syDLDwmxmz3"
   },
   "source": [
    "- **Vấn đề xảy là ở đây là**: Đôi khi partition khá to, to hơn cả RAM **mức RAM có thể xử lý tốt**, do đó, cần phải chia thành đơn vị nhỏ hơn là các FETCH để load từ DISK lên RAM rồi stream sang cho Spark thông qua các connection."
   ]
  },
  {
   "cell_type": "markdown",
   "metadata": {
    "id": "Y48DakWX2xNP"
   },
   "source": [
    "**! Lưu ý**: Fetch_size không tính bằng byte mà tính bằng số record, ví du: fetch_size = 10000. Tức là mỗi fetch sẽ gồm 10000 dòng (records)"
   ]
  },
  {
   "cell_type": "markdown",
   "metadata": {
    "id": "rkWp-x3q3tdJ"
   },
   "source": [
    "  - Spark worker **không chờ đến khi gom đủ fetch để thành 1 partition rồi mới xử lý**, mà mỗi Fetch nó nhận được thì nó **xử lý ngay lập tức**.\n",
    "  - Thế nên, về bản chất, là các Spark Worker Core xử lý từng fetch, chứ không phải xử lý cả partition cùng lúc.\n",
    "  - Partition là **giới hạn về mặt logic** thôi, nó giúp đảm bảo:\n",
    "    + 2 cores khác nhau không được load các fetch của cùng 1 Partition.\n",
    "    + Mỗi cores xử lý 1 Partition rồi lưu thành .parquet thì .parquet mới giữ được cái khoảng [min, max] tương ứng với khoảng [min, max] của partition ban đầu => Từ đó, mới tìm kiếm được nhanh hơn.\n",
    "    + Cố định được size mỗi Partition, Partition khai báo gồm những bản ghi nào thì chắc chắn chỉ lấy những bản ghi đó. Còn fetch thì kích thước mỗi fetch hên xui, tuy là có khai báo fetch_size = 10000, nhưng có khi fetch chỉ gồm 9800 dòng, nó tùy thuộc vào RAM khả dụng của Postgres Server. **Tóm lại, fetch_size chỉ là số dòng tối đa của 1 fetch, còn kích thước thì mỗi fetch lại khác nhau.**"
   ]
  },
  {
   "cell_type": "markdown",
   "metadata": {
    "id": "otdTE_GqAtFZ"
   },
   "source": [
    "Hình ảnh ví dụ:\n",
    "  - 1 Table chia làm 3 Partitions\n",
    "  - Mỗi Partition chia làm nhiều Fetch\n",
    "  - Các Fetch của các Partition khác nhau được load lên RAM, rồi Spark Master điều phối các Fetch này tới các Spark Worker để xử lý (**quá trình này là song song - tức là 3 fetch được load lên RAM cùng lúc và được xử lý cùng lúc như trong [hình này](https://viewer.diagrams.net/?tags=%7B%7D&lightbox=1&highlight=0000ff&edit=_blank&layers=1&nav=1&title=Spark%20load%20data&dark=auto#R%3Cmxfile%3E%3Cdiagram%20name%3D%22Page-1%22%20id%3D%22S0jMb7JeiJRpv8ubw-wW%22%3E7VtZe6I8FP41XnYeduES3GpbrdWitXcsERiRUBZFf%2F2XsKggrdpx6cxnL1pykpPlvGcNtELXZlHLU1yzA3VgVyhCjyp0vUJRNMux6A%2BmLBMKSQksn5AMz9JT4oYwsFYgJRIpNbR04OcGBhDageXmiRp0HKAFOZrieXCRHzaBdn5VVzHADmGgKfYudWTpgZlQeZYgNh33wDLMbGmSyLpmSjY8JfimosPFFoluVOiaB2GQPM2iGrCxADPJJHzNT3rXW%2FOAExzC8MQOujLDfPB3Xm319vD7wzGXd%2Bksc8UO0yOnmw2WmQw8GDo6wJMQFVpamFYABq6i4d4Fwh3RzGBmoxaJHieWbdegDb2Yl55MNPSD6H7gwSnY6qE5WqDRpFK6AeAFIPr0ZORaXkjZAJyBwFuiIdFar1IZp4pWTZuLDWYUn9LMbbjYlKikemKs594IEj2ksjxGrmWC5ewAiwiiUyFdTESIqB8hVgGpBkPPAh7q6oLFhoyeDPy3CQLNRJ1kNg%2FaVzJV0v8FbuRPxY0m87iRZAlwTAlw1Nlwo86FG%2FUv48ZcHTf6XLg5%2FzJuwtVxq%2B4PQChwuvjRmsXRWsIysFCMflJUYPegbwUWdFC%2FCoMAztAAG3dIijY1YkwyaepgooQxlNkMom0ZmDOAGB7Fd5McYmJFGEcpXlDMqERGwVMpgVKhxaRJNV3HqFA1ayg99xfEY8uAIvrpDmSzIRvoqRa3H2riGP2RGhVKqlbrmCS%2BdQd9oi16PqNxL5jQd15kUkIs0e%2FFnB%2B%2FyDGn1jDftYUo1v0OaiJeTZ9%2FtDBDoz2Q%2B9Kwbvaqekew%2FIeXZls1BYZBu5q2Lctsi9NIJs130EXLes1l05P91bT%2BIMieVScbU7l7H70%2BKp1VV5Dluh%2BpPaduaM%2FieADaPaHXeKwKyESaEP%2FSCe5x8NgJB70OPnTos67YHA6nytjVhzQ9suk3t2U%2FDocjgXRkHbyzr7Ylo6FziCCVhtKgSYYhObX6fXs2fFZYt4Xp5Ii0oV43gDPQH1B7zgJy6M31V3fyFI2ce4a8H41mBNViyWeXn%2FBzBTytQn1l%2B76N9FKaydHoyQx6Teb1oT0VO%2F2oWh%2BI5Ag2X6R%2Bsy6O6y4zNJetBdVeGLUHt%2FcwRnviAKGFulrV1KlpdfseMbMmPfb3M%2Bqqzl%2FUl8CiAEu1Opz65gljGJlhE3kJ6Umq0tG7QK4YqbtSw977hx54MZbiQB4%2B9x%2FZ2rjdxop7LSNnCCFv5CXZEEPt2rhwJhOnuX2ueWPrmRPGHXd%2BXA6IOOdh3ChxzWsnfbQ%2F7ynI5mNPcUQOhWAI8o5bSV2GhuBAi%2B36kpml65i9NALkc%2BkrBQE%2BHwT4XfUgiZIYQJ8rBtAHxIC%2FsAhZC%2Bx6VQjN36qQ47Oi0vLxolkRLdyqkONxo4lr45YtdqtCjsKNvTpuB1yD3aqQWxVyq0K%2BXYXQJdnQJauQbK1bFfIzqxCq5ArxsmUIU3aF%2BPeXIXTZHd9lyxAcB25lyLFpEVNWP142LWJvZcg3cOOujtveG7dbGbKLG3v1l4%2FM7WXIrQy5lSHnLEOYkmzoomXI3hvZWxlyzTKEKblDvGwZwp4w6TpAmdgdZUrQR1h5UzSgo%2FgY2kuEfV4D5YirPMuwxGkQp%2BhqofAk2V%2FsLuZUWYVEM9nQ08N%2Bgreku1ge7Rj6YgeDDmYQn%2Bkw0LOUxPWgBnx%2FP%2FDqOht5DgPbckC5Qugs4HWmTCF4SqU57kQugGcKCpHNsaUO61wxpw5nixLsUW9EDzC1RILZJ6xUKutRdhgsZFPRzNADLcxa5zcE0THiJVExmEfIgRg4yZ%2FGtUGyjuEpuoUEXxhzCpgoNg%2FTXcmFkUAKuzBx5Nlc9QmCufDnNputqa6jO%2FQDwwM%2BYqij3FxVfJSXEwPgzXOeXC1OcKihJ3mADkPVzkz3Txw%2FiH%2FOnwpyBQWiSlJBtsTOuXPpD3fAayfg6CL%2BkB2XdDbUpljwim%2BuRY36mxZeNk6iUCv9iJ6k8jLPJ1sgsoK3bAb0PMb0X2zaqkdbw%2BrL9dzozG%2FbjS0u3Nywxa2MD2%2B3pwQoi3Biz0IR2LtMbLgQHVQzpvUquUYZ6Dvf5BcwRgJCFpEaydffXweKZ4DgKwzYcq3ZzgUyBfCAjbY7z%2B%2BuTCvS6XrQir3AOtIInySb2RzJsVK2jXLtzEQR7J6ZknPvzIRUSVluDXPxAP%2BrLReDI0d8vTOSPZKBKX42k2dAD8mmN2a2RukPLO%2BAu%2F6b5X3L8rJvjvZbHnc5y%2BMKST9dLN8OtTxSoPIzsdl591jeyTS37F3Kj9XcwzXwuzp%2BQs3NXlPt19zq5TS3ShQ8ffW7mssXZqKLec25YkZWPH0eM45lKNbwexmKQabAcKYgs%2Fcm5yJ3fdlNzgJ603jUhV6aAq78NkevCipxqtscrpDUCyVXOWXvcLhz3eNwP%2BNr9%2F8V6FTJB4QXRr3swuaG%2BllRL72qPxHqqLn5x%2BwkHmz%2BxZ1u%2FAc%3D%3C%2Fdiagram%3E%3C%2Fmxfile%3E)**)"
   ]
  }
 ],
 "metadata": {
  "colab": {
   "provenance": []
  },
  "kernelspec": {
   "display_name": "Python 3 (ipykernel)",
   "language": "python",
   "name": "python3"
  },
  "language_info": {
   "codemirror_mode": {
    "name": "ipython",
    "version": 3
   },
   "file_extension": ".py",
   "mimetype": "text/x-python",
   "name": "python",
   "nbconvert_exporter": "python",
   "pygments_lexer": "ipython3",
   "version": "3.13.5"
  }
 },
 "nbformat": 4,
 "nbformat_minor": 4
}

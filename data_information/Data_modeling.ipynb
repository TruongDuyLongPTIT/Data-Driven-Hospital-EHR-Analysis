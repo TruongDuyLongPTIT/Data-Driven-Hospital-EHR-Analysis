{
  "nbformat": 4,
  "nbformat_minor": 0,
  "metadata": {
    "colab": {
      "provenance": []
    },
    "kernelspec": {
      "name": "python3",
      "display_name": "Python 3"
    },
    "language_info": {
      "name": "python"
    }
  },
  "cells": [
    {
      "cell_type": "markdown",
      "source": [
        "**Báo cáo:**\n",
        "  - **Vital Sign Report** - Hiển thị các chỉ số sinh tồn của bệnh nhân theo thời gian."
      ],
      "metadata": {
        "id": "cyJsWmZrB-I0"
      }
    },
    {
      "cell_type": "markdown",
      "source": [
        "**1. Vital Sign Report.**"
      ],
      "metadata": {
        "id": "xbxy8IetCsXj"
      }
    },
    {
      "cell_type": "markdown",
      "source": [
        "- **Ý nghĩa**: Hiển thị các chỉ số sinh tồn quan trọng của bệnh nhân ICU theo thời gian (Heart Rate, Arterial Blood Pressure systolic/diastolic/mean, SpO2)\n",
        "- **Business process**:  Quản lý bệnh nhân phòng ICU.\n",
        "- **Atomic grain**: Một sự kiện (các thông số đo lường chỉ số sinh tồn được ghi tại 1 thời điểm) trong ICU.\n",
        "- **Thuộc tính fact của bảng Fact**: value, unit of measurement."
      ],
      "metadata": {
        "id": "7ppfcn1CCvyr"
      }
    },
    {
      "cell_type": "markdown",
      "source": [
        "- **Bảng Dimension cần thiết cho báo cáo:**\n",
        "  - **What - Sự kiện được ghi chép là gì?**\n",
        "    - Loại sự kiện được ghi nhận -> **DimEventType (lấy dữ liệu từ bảng d_items)**.\n",
        "  - **Who - Sự kiên được ghi chép cho ai?**\n",
        "    - Bệnh nhân -> **DimPatient (lấy dữ liệu từ bảng patients)**.\n",
        "  - **Where - Sự kiện được ghi chép ở đâu?**\n",
        "    - Phòng ICU mà bệnh nhân đang nằm (MICU, SICU,...) -> **DimICUStay (lấy dữ liệu từ bằng icustays)**.\n",
        "  - **When - Thời điểm sự kiện được ghi chép?**\n",
        "    - Thời gian mà sự kiện được ghi chép lại -> **DimTime (vì dữ liệu timestamp là tĩnh nên tự tạo 1 bảng)**.\n",
        "  \n"
      ],
      "metadata": {
        "id": "TIb-cQT0Eyp6"
      }
    },
    {
      "cell_type": "markdown",
      "source": [
        "- **Tóm lại, các bảng Dim cần thiết là:**\n",
        "  - **DimEventType (lấy dữ liệu từ bảng d_items)**:\n",
        "    - **eventtypeDK** - durable key trong trường hợp này dùng luôn **itemid**.\n",
        "    - **eventtypeSK(PK)** - số nguyên tự động tăng dần dùng làm ID cho mỗi record trong bảng (SK - surrogate key).\n",
        "    - **vital_sign_type** - Tên chỉ số sinh tồn.\n",
        "    - **lownormalvalue** - Cận dưới của khoảng bình thường.\n",
        "    - **highnormalvalue** - Cận trên của khoảng bình thường.\n",
        "\n",
        "  - **DimPatient (lấy dữ liệu từ bảng patients)**:\n",
        "    - **patientDK** - subject_id trong bảng patients.\n",
        "    - **patientSK (PK)** - số nguyên tự động tăng dần.\n",
        "    - **gender** - Giới tính bệnh nhân.\n",
        "    - **age** - anchor_age trong bảng patients.\n",
        "\n",
        "  - **DimICUStay (lấy dữ liệu từ bằng icustays)**:\n",
        "    - **icustayDK** - stay_id.\n",
        "    - **icustaySK (PK)** - số nguyên tự động tăng dần.\n",
        "    - **careunit** - first_careunit của bảng icustays.\n",
        "\n",
        "  - **DimTime (vì dữ liệu timestamp là tĩnh nên tự tạo 1 bảng)**:\n",
        "    - **timekey(PK)** - dùng smart key (tức là biến thời gian thành key luôn - ví dụ: 2180-07-23 12:36:00.000 -> 21800723123600000).\n",
        "    - **year** - tách riêng năm.\n",
        "    - **month** - tách riêng tháng.\n",
        "    - **day_of_month** - tách riêng ngày.\n",
        "    - **hour_minute** - tách riêng giờ/phút."
      ],
      "metadata": {
        "id": "MMk6ho3JNhCc"
      }
    },
    {
      "cell_type": "markdown",
      "source": [
        "- **Bảng Fact cần thiết cho báo cáo**:\n",
        "  - **FactICUVitalSignEvent**:\n",
        "    - **FactID(PK)**: ID của bảng Fact.\n",
        "    - **eventtypeSK(FK)** - liên kết tới bảng **DimEventType**.\n",
        "    - **patientSK(FK)** - liên kết tới bảng **DimPatient**.\n",
        "    - **icustaySK(FK)** - liên kết tới bảng **DimICUStay**.\n",
        "    - **timekey(FK)** - liên kết tới bảng  **DimTime**.\n",
        "    - **value**: giá trị tương ứng của phép đo chỉ số sức khỏe.\n",
        "    - **unit_of_measurements**: đơn vị đo."
      ],
      "metadata": {
        "id": "Nhp16JysEOG0"
      }
    }
  ]
}
{
  "nbformat": 4,
  "nbformat_minor": 0,
  "metadata": {
    "colab": {
      "provenance": []
    },
    "kernelspec": {
      "name": "python3",
      "display_name": "Python 3"
    },
    "language_info": {
      "name": "python"
    }
  },
  "cells": [
    {
      "cell_type": "markdown",
      "source": [
        "1. Tỷ lệ kháng kháng sinh trên mỗi chủng vi khuẩn"
      ],
      "metadata": {
        "id": "cr_-QsOn88Zp"
      }
    },
    {
      "cell_type": "markdown",
      "source": [],
      "metadata": {
        "id": "vicYI3Sh9A8y"
      }
    }
  ]
}
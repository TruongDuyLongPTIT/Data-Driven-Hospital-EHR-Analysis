{
  "nbformat": 4,
  "nbformat_minor": 0,
  "metadata": {
    "colab": {
      "provenance": []
    },
    "kernelspec": {
      "name": "python3",
      "display_name": "Python 3"
    },
    "language_info": {
      "name": "python"
    }
  },
  "cells": [
    {
      "cell_type": "markdown",
      "source": [
        "### **1. Báo cáo phân tích bệnh nhân (Patient Analytics)**"
      ],
      "metadata": {
        "id": "uEErSANEvn8W"
      }
    },
    {
      "cell_type": "markdown",
      "source": [
        "- Tỷ lệ bệnh theo độ tuổi, giới tính."
      ],
      "metadata": {
        "id": "cr_-QsOn88Zp"
      }
    },
    {
      "cell_type": "markdown",
      "source": [
        "- Thời gian nằm viện trung bình theo loại bệnh\n"
      ],
      "metadata": {
        "id": "rnxlEreVvTdo"
      }
    },
    {
      "cell_type": "markdown",
      "source": [
        "- Tỷ lệ tái nhập viện trong 30 ngày\n"
      ],
      "metadata": {
        "id": "lNbMSJ6ZvV7P"
      }
    },
    {
      "cell_type": "markdown",
      "source": [
        "- Phân tích các yếu tố nguy cơ tử vong\n",
        "\n",
        "  - Bệnh nền, tuổi tác, phương pháp điều trị,..."
      ],
      "metadata": {
        "id": "d8QN5iNcvYBW"
      }
    },
    {
      "cell_type": "markdown",
      "source": [
        "### **2. Báo cáo hoạt động ICU (ICU Operations)**\n",
        "\n"
      ],
      "metadata": {
        "id": "z8y_mgYsvtj-"
      }
    },
    {
      "cell_type": "markdown",
      "source": [
        "- Tỷ lệ nhập ICU theo nguyên nhân (ví dụ: sepsis, trauma, cardiac arrest)."
      ],
      "metadata": {
        "id": "vjZSir876lHM"
      }
    },
    {
      "cell_type": "markdown",
      "source": [
        "-  **SOFA/APACHE score trung bình**\n",
        "\n",
        "    - Đây là thang điểm đánh giá mức độ nặng của bệnh nhân ICU.\n",
        "\n",
        "      - **SOFA (Sequential Organ Failure Assessment)**: tính dựa trên các chỉ số về hô hấp, đông máu, gan, tim mạch, thần kinh, thận. Điểm càng cao → bệnh nhân càng nguy kịch.\n",
        "\n",
        "      - **APACHE II (Acute Physiology And Chronic Health Evaluation)**: dựa trên nhiều xét nghiệm sinh lý + tuổi + bệnh nền để dự đoán tử vong."
      ],
      "metadata": {
        "id": "YvsEsPuPwZYe"
      }
    },
    {
      "cell_type": "markdown",
      "source": [
        "- Tỷ lệ tử vong trong ICU (ICU mortality)."
      ],
      "metadata": {
        "id": "-teNcVhT6qQj"
      }
    },
    {
      "cell_type": "markdown",
      "source": [
        "**Báo Cáo 1: Phân Bố Bệnh Lý Theo Khoa và Tỷ Lệ Tử Vong**\n",
        "\n",
        "  - **Mô tả**: ETL dữ liệu từ diagnoses_icd (module hospital) và icustays (module ICU) để phân loại bệnh lý (ICD-10 codes) theo khoa ICU (MICU, SICU, CCU), tuổi, giới tính, và tính tỷ lệ tử vong. Làm sạch ICD codes (loại bỏ NULL), join tables qua subject_id và hadm_id, lưu vào warehouse, rồi tạo báo cáo.\n",
        "\n",
        "  - **Insight Giá Trị**: Xác định khoa có tỷ lệ tử vong cao với bệnh lý cụ thể (ví dụ: suy tim I50.9 ở CCU 25%), hỗ trợ ban giám đốc ưu tiên đào tạo nhân sự hoặc phân bổ chuyên gia."
      ],
      "metadata": {
        "id": "zCEkhymqGWq6"
      }
    },
    {
      "cell_type": "markdown",
      "source": [
        "### **3. Báo cáo dược phẩm (Medication Analysis)**\n",
        "\n"
      ],
      "metadata": {
        "id": "dCaUih1Kvymm"
      }
    },
    {
      "cell_type": "markdown",
      "source": [
        "- Top 10 thuốc được kê đơn nhiều nhất\n"
      ],
      "metadata": {
        "id": "UUEteNOiv3je"
      }
    },
    {
      "cell_type": "markdown",
      "source": [
        "- Phân tích tương tác thuốc tiềm ẩn\n"
      ],
      "metadata": {
        "id": "mg9C-4CPv6uV"
      }
    },
    {
      "cell_type": "markdown",
      "source": [
        "- Chi phí điều trị trung bình theo nhóm thuốc (cần lấy thêm dữ liệu giá nhóm thuốc ở ngoài)"
      ],
      "metadata": {
        "id": "Pq7mAnA_v_ku"
      }
    },
    {
      "cell_type": "markdown",
      "source": [
        "- Tỷ lệ kháng kháng sinh trên mỗi chủng vi khuẩn"
      ],
      "metadata": {
        "id": "QS1R7w446YVs"
      }
    },
    {
      "cell_type": "markdown",
      "source": [
        "**Báo Cáo 2: Sử Dụng Thuốc Theo Chẩn Đoán**\n",
        "\n",
        "Mô tả: ETL dữ liệu từ inputevents (module ICU) và diagnoses_icd (module hospital) để phân tích tỷ lệ sử dụng thuốc (như Noradrenaline, itemid 30045) theo chẩn đoán (ICD-10 codes). Làm sạch itemid (dùng d_items để map), join tables qua subject_id, lưu vào warehouse, rồi tạo báo cáo.\n",
        "Insight Giá Trị: Phát hiện thuốc phổ biến với bệnh lý (ví dụ: Noradrenaline chiếm 70% ca sốc R57), giúp các khoa tối ưu toa thuốc và giảm chi phí thuốc không cần thiết."
      ],
      "metadata": {
        "id": "51nZk7BUG3Cq"
      }
    },
    {
      "cell_type": "markdown",
      "source": [
        "### **4. Báo cáo xét nghiệm (Lab Results Dashboard)**\n",
        "\n"
      ],
      "metadata": {
        "id": "wt_b_0Vlwp9W"
      }
    },
    {
      "cell_type": "markdown",
      "source": [
        "- **Phân bố giá trị lab tests bất thường (Distribution of abnormal lab test values)**\n",
        "\n",
        "  - Tức là: Trong số tất cả các xét nghiệm (ví dụ: creatinine, sodium, hemoglobin…), có bao nhiêu % kết quả cao hơn ngưỡng bình thường hoặc thấp hơn ngưỡng bình thường.\n",
        "\n",
        "    - Ví dụ: 25% bệnh nhân ICU có creatinine > 1.5 (suy thận).\n",
        "\n",
        "    - Hoặc: 40% kết quả hemoglobin < 10 g/dL (thiếu máu).\n",
        "\n",
        "🔹 Ý nghĩa: Cho biết mức độ phổ biến của các bất thường trong quần thể bệnh nhân → hỗ trợ ưu tiên điều trị."
      ],
      "metadata": {
        "id": "f9mV6US3wz1k"
      }
    },
    {
      "cell_type": "markdown",
      "source": [
        "### **5. Báo cáo chẩn đoán**"
      ],
      "metadata": {
        "id": "Jz07vtSc7NgM"
      }
    },
    {
      "cell_type": "markdown",
      "source": [
        "- Top 20 mã bệnh ICD-10 phổ biến nhất - nguyên nhân nhập viện.\n"
      ],
      "metadata": {
        "id": "Mam1M_Tn7SDb"
      }
    },
    {
      "cell_type": "markdown",
      "source": [
        "### **6. Báo cáo thủ thuật và can thiệp y tế**\n",
        "\n"
      ],
      "metadata": {
        "id": "jDWRgXta7bpr"
      }
    },
    {
      "cell_type": "markdown",
      "source": [
        "- Tỷ lệ bệnh nhân được đặt nội khí quản, thở máy, lọc máu, central line…"
      ],
      "metadata": {
        "id": "8XiRLC-Z8JTs"
      }
    },
    {
      "cell_type": "markdown",
      "source": [
        "- Thời lượng trung bình cho các thủ thuật quan trọng (ventilation hours, dialysis sessions)."
      ],
      "metadata": {
        "id": "rLiY-U1T8LOM"
      }
    }
  ]
}
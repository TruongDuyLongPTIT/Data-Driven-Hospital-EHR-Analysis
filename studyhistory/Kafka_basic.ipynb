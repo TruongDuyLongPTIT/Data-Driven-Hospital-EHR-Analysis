{
  "nbformat": 4,
  "nbformat_minor": 0,
  "metadata": {
    "colab": {
      "provenance": []
    },
    "kernelspec": {
      "name": "python3",
      "display_name": "Python 3"
    },
    "language_info": {
      "name": "python"
    }
  },
  "cells": [
    {
      "cell_type": "markdown",
      "source": [
        "**Kafka visualization explained**: https://softwaremill.com/kafka-visualisation/"
      ],
      "metadata": {
        "id": "n1Z9fNvHuk4r"
      }
    }
  ]
}
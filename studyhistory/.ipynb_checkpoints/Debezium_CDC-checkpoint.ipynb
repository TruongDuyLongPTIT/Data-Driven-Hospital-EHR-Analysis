{
  "cells": [
    {
      "cell_type": "markdown",
      "metadata": {},
      "source": [
        "# 🎯 Kết nối Debezium với PostgreSQL - Change Data Capture (CDC)\n",
        "\n",
        "Tutorial này hướng dẫn từng bước cách setup Debezium để capture changes từ PostgreSQL và đẩy vào Kafka.\n",
        "\n",
        "## 📋 Prerequisites\n",
        "- Docker & Docker Compose đã cài đặt\n",
        "- Containers đang chạy: PostgreSQL, Kafka, Zookeeper, Debezium\n",
        "- Ports: 5432 (PostgreSQL), 9092/9093 (Kafka), 8087 (Debezium)"
      ]
    },
    {
      "cell_type": "markdown",
      "metadata": {},
      "source": [
        "## ✅ Bước 0: Verify Containers đang chạy"
      ]
    },
    {
      "cell_type": "code",
      "execution_count": null,
      "metadata": {},
      "outputs": [],
      "source": [
        "%%bash\n",
        "# Check containers\n",
        "echo \"=== Running Containers ===\"\n",
        "docker ps --format \"table {{.Names}}\\t{{.Status}}\" | grep -E \"postgres|kafka|zookeeper|debezium\"\n",
        "\n",
        "echo -e \"\\n=== Container Health ===\"\n",
        "for container in postgres_db kafka zookeeper debezium; do\n",
        "    if docker ps | grep -q $container; then\n",
        "        echo \"✅ $container is running\"\n",
        "    else\n",
        "        echo \"❌ $container is NOT running\"\n",
        "    fi\n",
        "done"
      ]
    },
    {
      "cell_type": "markdown",
      "metadata": {},
      "source": [
        "Nếu containers chưa chạy, start chúng:"
      ]
    },
    {
      "cell_type": "code",
      "execution_count": null,
      "metadata": {},
      "outputs": [],
      "source": [
        "%%bash\n",
        "# Uncomment để start containers\n",
        "# docker-compose up -d postgres zookeeper kafka debezium"
      ]
    },
    {
      "cell_type": "markdown",
      "metadata": {},
      "source": [
        "## 🗄️ Bước 1: Chuẩn bị PostgreSQL\n",
        "\n",
        "### 1.1 Verify PostgreSQL WAL Level\n",
        "\n",
        "Debezium yêu cầu `wal_level=logical` để đọc transaction log."
      ]
    },
    {
      "cell_type": "code",
      "execution_count": null,
      "metadata": {},
      "outputs": [],
      "source": [
        "%%bash\n",
        "# Check WAL level\n",
        "docker exec -it postgres_db psql -U admin -d myapp_db -c \"SHOW wal_level;\""
      ]
    },
    {
      "cell_type": "markdown",
      "metadata": {},
      "source": [
        "Output phải là `logical`. Nếu không, sửa trong `docker-compose.yml`:\n",
        "\n",
        "```yaml\n",
        "postgres:\n",
        "  command: \n",
        "    - \"postgres\"\n",
        "    - \"-c\"\n",
        "    - \"wal_level=logical\"\n",
        "```"
      ]
    },
    {
      "cell_type": "markdown",
      "metadata": {},
      "source": [
        "### 1.2 Tạo Table Test"
      ]
    },
    {
      "cell_type": "code",
      "execution_count": null,
      "metadata": {},
      "outputs": [],
      "source": [
        "%%bash\n",
        "# Create users table với sample data\n",
        "docker exec postgres_db psql -U admin -d myapp_db << 'EOSQL'\n",
        "-- Drop nếu đã tồn tại\n",
        "DROP TABLE IF EXISTS users;\n",
        "\n",
        "-- Tạo table\n",
        "CREATE TABLE users (\n",
        "    id SERIAL PRIMARY KEY,\n",
        "    name VARCHAR(100),\n",
        "    email VARCHAR(100),\n",
        "    created_at TIMESTAMP DEFAULT NOW()\n",
        ");\n",
        "\n",
        "-- Insert sample data\n",
        "INSERT INTO users (name, email) VALUES \n",
        "    ('Alice', 'alice@example.com'),\n",
        "    ('Bob', 'bob@example.com'),\n",
        "    ('Carol', 'carol@example.com');\n",
        "\n",
        "-- Verify\n",
        "SELECT * FROM users;\n",
        "EOSQL"
      ]
    },
    {
      "cell_type": "markdown",
      "metadata": {},
      "source": [
        "## 🔌 Bước 2: Verify Debezium đang chạy"
      ]
    },
    {
      "cell_type": "code",
      "execution_count": null,
      "metadata": {},
      "outputs": [],
      "source": [
        "import requests\n",
        "import json\n",
        "\n",
        "# Check Debezium health\n",
        "try:\n",
        "    response = requests.get('http://localhost:8087/')\n",
        "    print(\"✅ Debezium is running\")\n",
        "    print(json.dumps(response.json(), indent=2))\n",
        "except Exception as e:\n",
        "    print(f\"❌ Debezium not accessible: {e}\")"
      ]
    },
    {
      "cell_type": "code",
      "execution_count": null,
      "metadata": {},
      "outputs": [],
      "source": [
        "# List existing connectors\n",
        "response = requests.get('http://localhost:8087/connectors')\n",
        "connectors = response.json()\n",
        "\n",
        "print(f\"Existing connectors: {len(connectors)}\")\n",
        "for connector in connectors:\n",
        "    print(f\"  - {connector}\")"
      ]
    },
    {
      "cell_type": "markdown",
      "metadata": {},
      "source": [
        "## 📝 Bước 3: Tạo Debezium Connector\n",
        "\n",
        "### 3.1 Connector Configuration"
      ]
    },
    {
      "cell_type": "code",
      "execution_count": null,
      "metadata": {},
      "outputs": [],
      "source": [
        "# Debezium connector config\n",
        "connector_config = {\n",
        "    \"name\": \"postgres-connector\",\n",
        "    \"config\": {\n",
        "        \"connector.class\": \"io.debezium.connector.postgresql.PostgresConnector\",\n",
        "        \"tasks.max\": \"1\",\n",
        "        \n",
        "        # PostgreSQL connection\n",
        "        \"database.hostname\": \"postgres\",\n",
        "        \"database.port\": \"5432\",\n",
        "        \"database.user\": \"admin\",\n",
        "        \"database.password\": \"admin\",\n",
        "        \"database.dbname\": \"myapp_db\",\n",
        "        \"database.server.name\": \"postgres\",\n",
        "        \n",
        "        # Tables to capture\n",
        "        \"table.include.list\": \"public.users\",\n",
        "        \n",
        "        # PostgreSQL plugin\n",
        "        \"plugin.name\": \"pgoutput\",\n",
        "        \n",
        "        # Kafka topic naming\n",
        "        \"topic.prefix\": \"postgres\",\n",
        "        \n",
        "        # Replication slot & publication\n",
        "        \"slot.name\": \"debezium_slot\",\n",
        "        \"publication.name\": \"debezium_publication\",\n",
        "        \n",
        "        # Snapshot mode\n",
        "        \"snapshot.mode\": \"initial\",\n",
        "        \n",
        "        # Topic creation\n",
        "        \"topic.creation.default.partitions\": 3,\n",
        "        \"topic.creation.default.replication.factor\": 1\n",
        "    }\n",
        "}\n",
        "\n",
        "print(\"Connector configuration:\")\n",
        "print(json.dumps(connector_config, indent=2))"
      ]
    },
    {
      "cell_type": "markdown",
      "metadata": {},
      "source": [
        "### 3.2 Create Connector"
      ]
    },
    {
      "cell_type": "code",
      "execution_count": null,
      "metadata": {},
      "outputs": [],
      "source": [
        "# Delete connector if exists\n",
        "try:\n",
        "    requests.delete('http://localhost:8087/connectors/postgres-connector')\n",
        "    print(\"🗑️  Deleted existing connector\")\n",
        "    import time\n",
        "    time.sleep(2)\n",
        "except:\n",
        "    pass\n",
        "\n",
        "# Create new connector\n",
        "response = requests.post(\n",
        "    'http://localhost:8087/connectors',\n",
        "    headers={'Content-Type': 'application/json'},\n",
        "    json=connector_config\n",
        ")\n",
        "\n",
        "if response.status_code in [200, 201]:\n",
        "    print(\"✅ Connector created successfully\")\n",
        "    print(json.dumps(response.json(), indent=2))\n",
        "else:\n",
        "    print(f\"❌ Failed to create connector: {response.status_code}\")\n",
        "    print(response.text)"
      ]
    },
    {
      "cell_type": "markdown",
      "metadata": {},
      "source": [
        "### 3.3 Verify Connector Status"
      ]
    },
    {
      "cell_type": "code",
      "execution_count": null,
      "metadata": {},
      "outputs": [],
      "source": [
        "import time\n",
        "\n",
        "# Wait for connector to start\n",
        "print(\"Waiting for connector to start...\")\n",
        "time.sleep(5)\n",
        "\n",
        "# Check status\n",
        "response = requests.get('http://localhost:8087/connectors/postgres-connector/status')\n",
        "status = response.json()\n",
        "\n",
        "print(\"\\n=== Connector Status ===\")\n",
        "print(f\"Connector State: {status['connector']['state']}\")\n",
        "print(f\"Worker ID: {status['connector']['worker_id']}\")\n",
        "\n",
        "print(\"\\n=== Tasks ===\")\n",
        "for task in status['tasks']:\n",
        "    print(f\"Task {task['id']}: {task['state']} on {task['worker_id']}\")\n",
        "\n",
        "if status['connector']['state'] == 'RUNNING':\n",
        "    print(\"\\n✅ Connector is RUNNING!\")\n",
        "else:\n",
        "    print(f\"\\n⚠️  Connector state: {status['connector']['state']}\")"
      ]
    },
    {
      "cell_type": "markdown",
      "metadata": {},
      "source": [
        "## 🔍 Bước 4: Verify PostgreSQL Side Effects\n",
        "\n",
        "Debezium tạo replication slot và publication trong PostgreSQL."
      ]
    },
    {
      "cell_type": "code",
      "execution_count": null,
      "metadata": {},
      "outputs": [],
      "source": [
        "%%bash\n",
        "echo \"=== Replication Slots ===\"\n",
        "docker exec postgres_db psql -U admin -d myapp_db -c \"SELECT slot_name, plugin, slot_type, active FROM pg_replication_slots;\"\n",
        "\n",
        "echo -e \"\\n=== Publications ===\"\n",
        "docker exec postgres_db psql -U admin -d myapp_db -c \"SELECT pubname, puballtables FROM pg_publication;\"\n",
        "\n",
        "echo -e \"\\n=== Publication Tables ===\"\n",
        "docker exec postgres_db psql -U admin -d myapp_db -c \"SELECT pubname, schemaname, tablename FROM pg_publication_tables;\""
      ]
    },
    {
      "cell_type": "markdown",
      "metadata": {},
      "source": [
        "## 📊 Bước 5: Verify Kafka Topics Created"
      ]
    },
    {
      "cell_type": "code",
      "execution_count": null,
      "metadata": {},
      "outputs": [],
      "source": [
        "%%bash\n",
        "echo \"=== Kafka Topics ===\"\n",
        "docker exec kafka kafka-topics --list --bootstrap-server localhost:9092\n",
        "\n",
        "echo -e \"\\n=== User Topic Details ===\"\n",
        "docker exec kafka kafka-topics \\\n",
        "  --describe \\\n",
        "  --topic postgres.public.users \\\n",
        "  --bootstrap-server localhost:9092"
      ]
    },
    {
      "cell_type": "markdown",
      "metadata": {},
      "source": [
        "## 👀 Bước 6: Xem Snapshot Data trong Kafka\n",
        "\n",
        "Debezium đã snapshot 3 rows ban đầu từ PostgreSQL."
      ]
    },
    {
      "cell_type": "code",
      "execution_count": null,
      "metadata": {},
      "outputs": [],
      "source": [
        "%%bash\n",
        "# Count messages in topic\n",
        "echo \"=== Message Count ===\"\n",
        "docker exec kafka kafka-run-class kafka.tools.GetOffsetShell \\\n",
        "  --broker-list localhost:9092 \\\n",
        "  --topic postgres.public.users 2>/dev/null\n",
        "\n",
        "echo -e \"\\n=== Sample Message ===\"\n",
        "docker exec kafka kafka-console-consumer \\\n",
        "  --bootstrap-server localhost:9092 \\\n",
        "  --topic postgres.public.users \\\n",
        "  --from-beginning \\\n",
        "  --max-messages 1 2>/dev/null | jq '.payload | {before, after, op, source: {snapshot, lsn}}'"
      ]
    },
    {
      "cell_type": "markdown",
      "metadata": {},
      "source": [
        "## 🧪 Bước 7: Test CDC Realtime\n",
        "\n",
        "### 7.1 Setup Kafka Consumer (background)"
      ]
    },
    {
      "cell_type": "code",
      "execution_count": null,
      "metadata": {},
      "outputs": [],
      "source": [
        "from kafka import KafkaConsumer\n",
        "import json\n",
        "from threading import Thread\n",
        "import time\n",
        "\n",
        "# Global list to store messages\n",
        "captured_messages = []\n",
        "\n",
        "def consume_messages():\n",
        "    \"\"\"Background consumer\"\"\"\n",
        "    consumer = KafkaConsumer(\n",
        "        'postgres.public.users',\n",
        "        bootstrap_servers=['localhost:9093'],\n",
        "        auto_offset_reset='latest',  # Only new messages\n",
        "        value_deserializer=lambda m: json.loads(m.decode('utf-8')),\n",
        "        consumer_timeout_ms=5000\n",
        "    )\n",
        "    \n",
        "    print(\"🎧 Consumer started, waiting for messages...\")\n",
        "    \n",
        "    try:\n",
        "        for message in consumer:\n",
        "            payload = message.value.get('payload', {})\n",
        "            captured_messages.append(payload)\n",
        "            \n",
        "            print(f\"\\n📨 Received message:\")\n",
        "            print(f\"  Operation: {payload.get('op')}\")\n",
        "            print(f\"  Before: {payload.get('before')}\")\n",
        "            print(f\"  After: {payload.get('after')}\")\n",
        "    except Exception as e:\n",
        "        print(f\"Consumer stopped: {e}\")\n",
        "    finally:\n",
        "        consumer.close()\n",
        "\n",
        "# Start consumer in background\n",
        "consumer_thread = Thread(target=consume_messages, daemon=True)\n",
        "consumer_thread.start()\n",
        "\n",
        "print(\"✅ Background consumer started\")\n",
        "time.sleep(2)"
      ]
    },
    {
      "cell_type": "markdown",
      "metadata": {},
      "source": [
        "### 7.2 Test INSERT"
      ]
    },
    {
      "cell_type": "code",
      "execution_count": null,
      "metadata": {},
      "outputs": [],
      "source": [
        "%%bash\n",
        "# INSERT new user\n",
        "docker exec postgres_db psql -U admin -d myapp_db -c \\\n",
        "  \"INSERT INTO users (name, email) VALUES ('David', 'david@example.com') RETURNING *;\""
      ]
    },
    {
      "cell_type": "code",
      "execution_count": null,
      "metadata": {},
      "outputs": [],
      "source": [
        "# Wait for message\n",
        "time.sleep(3)\n",
        "\n",
        "# Check captured messages\n",
        "print(f\"\\n📊 Captured {len(captured_messages)} new messages\")\n",
        "if captured_messages:\n",
        "    last_msg = captured_messages[-1]\n",
        "    print(f\"\\nLast message:\")\n",
        "    print(f\"  Operation: {last_msg.get('op')}\")\n",
        "    print(f\"  Data: {last_msg.get('after')}\")"
      ]
    },
    {
      "cell_type": "markdown",
      "metadata": {},
      "source": [
        "### 7.3 Test UPDATE"
      ]
    },
    {
      "cell_type": "code",
      "execution_count": null,
      "metadata": {},
      "outputs": [],
      "source": [
        "%%bash\n",
        "# UPDATE user\n",
        "docker exec postgres_db psql -U admin -d myapp_db -c \\\n",
        "  \"UPDATE users SET email = 'david.new@example.com' WHERE name = 'David' RETURNING *;\""
      ]
    },
    {
      "cell_type": "code",
      "execution_count": null,
      "metadata": {},
      "outputs": [],
      "source": [
        "# Wait and check\n",
        "time.sleep(3)\n",
        "\n",
        "if len(captured_messages) >= 2:\n",
        "    update_msg = captured_messages[-1]\n",
        "    print(f\"\\nUPDATE captured:\")\n",
        "    print(f\"  Before: {update_msg.get('before')}\")\n",
        "    print(f\"  After: {update_msg.get('after')}\")"
      ]
    },
    {
      "cell_type": "markdown",
      "metadata": {},
      "source": [
        "### 7.4 Test DELETE"
      ]
    },
    {
      "cell_type": "code",
      "execution_count": null,
      "metadata": {},
      "outputs": [],
      "source": [
        "%%bash\n",
        "# DELETE user\n",
        "docker exec postgres_db psql -U admin -d myapp_db -c \\\n",
        "  \"DELETE FROM users WHERE name = 'David' RETURNING *;\""
      ]
    },
    {
      "cell_type": "code",
      "execution_count": null,
      "metadata": {},
      "outputs": [],
      "source": [
        "# Wait and check\n",
        "time.sleep(3)\n",
        "\n",
        "if len(captured_messages) >= 3:\n",
        "    delete_msg = captured_messages[-1]\n",
        "    print(f\"\\nDELETE captured:\")\n",
        "    print(f\"  Operation: {delete_msg.get('op')}\")\n",
        "    print(f\"  Deleted data: {delete_msg.get('before')}\")\n",
        "    print(f\"  After: {delete_msg.get('after')}\")"
      ]
    },
    {
      "cell_type": "markdown",
      "metadata": {},
      "source": [
        "## 📊 Bước 8: Summary & Statistics"
      ]
    },
    {
      "cell_type": "code",
      "execution_count": null,
      "metadata": {},
      "outputs": [],
      "source": [
        "print(\"=== CDC Summary ===\")\n",
        "print(f\"Total messages captured: {len(captured_messages)}\")\n",
        "\n",
        "# Count by operation type\n",
        "ops = {}\n",
        "for msg in captured_messages:\n",
        "    op = msg.get('op', 'unknown')\n",
        "    ops[op] = ops.get(op, 0) + 1\n",
        "\n",
        "print(\"\\nOperations:\")\n",
        "op_names = {'c': 'CREATE (INSERT)', 'u': 'UPDATE', 'd': 'DELETE', 'r': 'READ (SNAPSHOT)'}\n",
        "for op, count in ops.items():\n",
        "    print(f\"  {op_names.get(op, op)}: {count}\")"
      ]
    },
    {
      "cell_type": "markdown",
      "metadata": {},
      "source": [
        "## 🎯 Bước 9: Access UIs"
      ]
    },
    {
      "cell_type": "code",
      "execution_count": null,
      "metadata": {},
      "outputs": [],
      "source": [
        "from IPython.display import HTML, display\n",
        "\n",
        "html = \"\"\"\n",
        "<div style=\"font-family: Arial; padding: 20px; background: #f5f5f5; border-radius: 10px;\">\n",
        "    <h3>🌐 Access Points</h3>\n",
        "    <ul style=\"list-style: none; padding: 0;\">\n",
        "        <li style=\"margin: 10px 0;\">\n",
        "            📊 <a href=\"http://localhost:8085\" target=\"_blank\">Kafka UI</a> - Monitor topics & messages\n",
        "        </li>\n",
        "        <li style=\"margin: 10px 0;\">\n",
        "            🔌 <a href=\"http://localhost:8088\" target=\"_blank\">Debezium UI</a> - Manage connectors\n",
        "        </li>\n",
        "        <li style=\"margin: 10px 0;\">\n",
        "            🔧 <a href=\"http://localhost:8087\" target=\"_blank\">Debezium API</a> - REST API endpoint\n",
        "        </li>\n",
        "    </ul>\n",
        "</div>\n",
        "\"\"\"\n",
        "\n",
        "display(HTML(html))"
      ]
    },
    {
      "cell_type": "markdown",
      "metadata": {},
      "source": [
        "## 🛠️ Useful Commands"
      ]
    },
    {
      "cell_type": "code",
      "execution_count": null,
      "metadata": {},
      "outputs": [],
      "source": [
        "# Helper functions\n",
        "\n",
        "def check_connector_status():\n",
        "    \"\"\"Check connector status\"\"\"\n",
        "    response = requests.get('http://localhost:8087/connectors/postgres-connector/status')\n",
        "    return response.json()\n",
        "\n",
        "def restart_connector():\n",
        "    \"\"\"Restart connector\"\"\"\n",
        "    response = requests.post('http://localhost:8087/connectors/postgres-connector/restart')\n",
        "    return response.status_code == 204\n",
        "\n",
        "def delete_connector():\n",
        "    \"\"\"Delete connector\"\"\"\n",
        "    response = requests.delete('http://localhost:8087/connectors/postgres-connector')\n",
        "    return response.status_code == 204\n",
        "\n",
        "def get_topic_info():\n",
        "    \"\"\"Get Kafka topic info\"\"\"\n",
        "    import subprocess\n",
        "    result = subprocess.run(\n",
        "        ['docker', 'exec', 'kafka', 'kafka-topics', \n",
        "         '--describe', '--topic', 'postgres.public.users',\n",
        "         '--bootstrap-server', 'localhost:9092'],\n",
        "        capture_output=True, text=True\n",
        "    )\n",
        "    return result.stdout\n",
        "\n",
        "print(\"✅ Helper functions loaded:\")\n",
        "print(\"  - check_connector_status()\")\n",
        "print(\"  - restart_connector()\")\n",
        "print(\"  - delete_connector()\")\n",
        "print(\"  - get_topic_info()\")"
      ]
    },
    {
      "cell_type": "markdown",
      "metadata": {},
      "source": [
        "## 🎉 Conclusion\n",
        "\n",
        "Bạn đã hoàn thành:\n",
        "\n",
        "✅ Setup PostgreSQL với `wal_level=logical`  \n",
        "✅ Tạo Debezium connector  \n",
        "✅ Verify replication slot và publication  \n",
        "✅ Kafka topics được tạo tự động  \n",
        "✅ Test CDC với INSERT, UPDATE, DELETE  \n",
        "✅ Monitor messages realtime  \n",
        "\n",
        "### Next Steps:\n",
        "\n",
        "1. **Add more tables**: Update `table.include.list` trong connector config\n",
        "2. **Setup Flink/Spark**: Consume từ Kafka và process data\n",
        "3. **Write to Iceberg**: Store CDC data vào data lake\n",
        "4. **Monitor lag**: Track consumer lag trong production\n",
        "\n",
        "### Resources:\n",
        "\n",
        "- [Debezium Docs](https://debezium.io/documentation/)\n",
        "- [Kafka Docs](https://kafka.apache.org/documentation/)\n",
        "- [PostgreSQL Logical Replication](https://www.postgresql.org/docs/current/logical-replication.html)"
      ]
    },
    {
      "cell_type": "markdown",
      "metadata": {},
      "source": [
        "## 🧹 Cleanup (Optional)"
      ]
    },
    {
      "cell_type": "code",
      "execution_count": null,
      "metadata": {},
      "outputs": [],
      "source": [
        "# Uncomment để cleanup\n",
        "\n",
        "# # Delete connector\n",
        "# delete_connector()\n",
        "# print(\"✅ Connector deleted\")\n",
        "\n",
        "# # Delete replication slot (trong PostgreSQL)\n",
        "# !docker exec postgres_db psql -U admin -d myapp_db -c \"SELECT pg_drop_replication_slot('debezium_slot');\"\n",
        "\n",
        "# # Delete Kafka topic\n",
        "# !docker exec kafka kafka-topics --delete --topic postgres.public.users --bootstrap-server localhost:9092\n",
        "\n",
        "print(\"⚠️  Uncomment code above to cleanup\")"
      ]
    }
  ],
  "metadata": {
    "kernelspec": {
      "display_name": "Python 3",
      "language": "python",
      "name": "python3"
    },
    "language_info": {
      "codemirror_mode": {
        "name": "ipython",
        "version": 3
      },
      "file_extension": ".py",
      "mimetype": "text/x-python",
      "name": "python",
      "nbconvert_exporter": "python",
      "pygments_lexer": "ipython3",
      "version": "3.9.0"
    }
  },
  "nbformat": 4,
  "nbformat_minor": 4
}
{
 "cells": [
  {
   "cell_type": "markdown",
   "metadata": {
    "id": "aUVsibCsAz8-"
   },
   "source": [
    "**🎯 Kết nối Debezium với PostgreSQL - Từng bước cụ thể**\n",
    "Tôi sẽ hướng dẫn bạn từng bước một cách chi tiết nhất!\n"
   ]
  },
  {
   "cell_type": "markdown",
   "metadata": {
    "id": "lVwuQD-eA2bO"
   },
   "source": [
    "**✅ Bước 0: Verify containers đang chạy**\n"
   ]
  },
  {
   "cell_type": "code",
   "execution_count": null,
   "metadata": {
    "id": "45-O1UwLA4qf"
   },
   "outputs": [],
   "source": [
    "# Check containers\n",
    "docker ps | grep -E \"postgres|kafka|zookeeper|debezium\"\n",
    "\n",
    "# Kết quả phải thấy:\n",
    "# - postgres_db\n",
    "# - kafka\n",
    "# - zookeeper\n",
    "# - debezium"
   ]
  },
  {
   "cell_type": "markdown",
   "metadata": {
    "id": "pci-wWfdA3-G"
   },
   "source": [
    "**🗄️ Bước 1: Chuẩn bị PostgreSQL**\n",
    "1.1 Verify PostgreSQL config\n"
   ]
  },
  {
   "cell_type": "code",
   "execution_count": null,
   "metadata": {
    "id": "0lRxvJ08A-yg"
   },
   "outputs": [],
   "source": [
    "# Check wal_level (phải là 'logical')\n",
    "docker exec -it postgres_db psql -U admin -d myapp_db -c \"SHOW wal_level;\"\n",
    "\n",
    "# Output phải là:\n",
    "#  wal_level\n",
    "# -----------\n",
    "#  logical"
   ]
  },
  {
   "cell_type": "markdown",
   "metadata": {
    "id": "72j-zP6jBA9u"
   },
   "source": [
    "Nếu KHÔNG phải logical:\n"
   ]
  },
  {
   "cell_type": "code",
   "execution_count": null,
   "metadata": {
    "id": "JME8a7OBBCOd"
   },
   "outputs": [],
   "source": [
    "# Sửa trong docker-compose.yml (bạn đã có rồi):\n",
    "command:\n",
    "  - \"postgres\"\n",
    "  - \"-c\"\n",
    "  - \"wal_level=logical\"\n",
    "\n",
    "# Restart PostgreSQL\n",
    "docker-compose restart postgres"
   ]
  },
  {
   "cell_type": "markdown",
   "metadata": {
    "id": "NkdYxwkIBDJt"
   },
   "source": [
    "**1.2 Tạo table test**\n"
   ]
  },
  {
   "cell_type": "code",
   "execution_count": null,
   "metadata": {
    "id": "0C5EOqBsBFLF"
   },
   "outputs": [],
   "source": [
    "# Connect vào PostgreSQL\n",
    "docker exec -it postgres_db psql -U admin -d myapp_db\n",
    "\n",
    "# Tạo table test\n",
    "CREATE TABLE users (\n",
    "    id SERIAL PRIMARY KEY,\n",
    "    name VARCHAR(100),\n",
    "    email VARCHAR(100),\n",
    "    created_at TIMESTAMP DEFAULT NOW()\n",
    ");\n",
    "\n",
    "# Insert data mẫu\n",
    "INSERT INTO users (name, email) VALUES\n",
    "    ('Alice', 'alice@example.com'),\n",
    "    ('Bob', 'bob@example.com'),\n",
    "    ('Carol', 'carol@example.com');\n",
    "\n",
    "# Verify\n",
    "SELECT * FROM users;\n",
    "\n",
    "# Exit\n",
    "\\q"
   ]
  },
  {
   "cell_type": "markdown",
   "metadata": {
    "id": "UCBF4eVXBGLW"
   },
   "source": [
    "**🔌 Bước 2: Verify Debezium đang chạy**\n"
   ]
  },
  {
   "cell_type": "code",
   "execution_count": null,
   "metadata": {
    "id": "8qQNvRweBImP"
   },
   "outputs": [],
   "source": [
    "# Check Debezium health\n",
    "curl http://localhost:8087/\n",
    "\n",
    "# Output:\n",
    "# {\"version\":\"3.6.1\",\"commit\":\"Se3c2b738d253ff5\",\"kafka_cluster_id\":\"...\"}\n",
    "\n",
    "# Check connectors (lần đầu sẽ empty)\n",
    "curl http://localhost:8087/connectors\n",
    "\n",
    "# Output: []"
   ]
  },
  {
   "cell_type": "markdown",
   "metadata": {
    "id": "99zZByz6BISN"
   },
   "source": [
    "**📝 Bước 3: Tạo Debezium Connector**\n"
   ]
  },
  {
   "cell_type": "markdown",
   "metadata": {
    "id": "NzqPNNPKBMwe"
   },
   "source": [
    "**3.1 Tạo file config connector**"
   ]
  },
  {
   "cell_type": "code",
   "execution_count": null,
   "metadata": {
    "id": "Ca9JHqE5BRFl"
   },
   "outputs": [],
   "source": [
    "{\n",
    "  \"name\": \"postgres-connector\",\n",
    "  \"config\": {\n",
    "    \"connector.class\": \"io.debezium.connector.postgresql.PostgresConnector\",\n",
    "    \"tasks.max\": \"1\",\n",
    "\n",
    "    \"database.hostname\": \"postgres\",\n",
    "    \"database.port\": \"5432\",\n",
    "    \"database.user\": \"admin\",\n",
    "    \"database.password\": \"admin\",\n",
    "    \"database.dbname\": \"myapp_db\",\n",
    "    \"database.server.name\": \"postgres\",\n",
    "\n",
    "    \"table.include.list\": \"public.users\",\n",
    "\n",
    "    \"plugin.name\": \"pgoutput\",\n",
    "\n",
    "    \"topic.prefix\": \"postgres\",\n",
    "\n",
    "    \"slot.name\": \"debezium_slot\",\n",
    "\n",
    "    \"publication.name\": \"debezium_publication\",\n",
    "\n",
    "    \"snapshot.mode\": \"initial\",\n",
    "\n",
    "    \"decimal.handling.mode\": \"string\",\n",
    "    \"time.precision.mode\": \"adaptive\",\n",
    "\n",
    "    \"heartbeat.interval.ms\": \"10000\",\n",
    "\n",
    "    \"topic.creation.default.partitions\": 3,\n",
    "    \"topic.creation.default.replication.factor\": 1\n",
    "  }\n",
    "}"
   ]
  },
  {
   "cell_type": "markdown",
   "metadata": {
    "id": "uxrC85zOBTjm"
   },
   "source": [
    "**3.2 Tạo connector qua REST API**"
   ]
  },
  {
   "cell_type": "code",
   "execution_count": null,
   "metadata": {
    "id": "-NsNx2QsBVyO"
   },
   "outputs": [],
   "source": [
    "# Method 1: Dùng curl với inline JSON\n",
    "curl -X POST http://localhost:8087/connectors \\\n",
    "  -H \"Content-Type: application/json\" \\\n",
    "  -d '{\n",
    "    \"name\": \"postgres-connector\",\n",
    "    \"config\": {\n",
    "      \"connector.class\": \"io.debezium.connector.postgresql.PostgresConnector\",\n",
    "      \"tasks.max\": \"1\",\n",
    "      \"database.hostname\": \"postgres\",\n",
    "      \"database.port\": \"5432\",\n",
    "      \"database.user\": \"admin\",\n",
    "      \"database.password\": \"admin\",\n",
    "      \"database.dbname\": \"myapp_db\",\n",
    "      \"database.server.name\": \"postgres\",\n",
    "      \"table.include.list\": \"public.users\",\n",
    "      \"plugin.name\": \"pgoutput\",\n",
    "      \"topic.prefix\": \"postgres\",\n",
    "      \"slot.name\": \"debezium_slot\",\n",
    "      \"publication.name\": \"debezium_publication\",\n",
    "      \"snapshot.mode\": \"initial\"\n",
    "    }\n",
    "  }'"
   ]
  },
  {
   "cell_type": "markdown",
   "metadata": {
    "id": "DkITSHtWBWzm"
   },
   "source": [
    "Hoặc save config vào file rồi dùng:\n"
   ]
  },
  {
   "cell_type": "code",
   "execution_count": null,
   "metadata": {
    "id": "_uksdR9_BXed"
   },
   "outputs": [],
   "source": [
    "# Method 2: Dùng file (tiện hơn)\n",
    "# Save artifact trên thành file: postgres-connector.json\n",
    "\n",
    "curl -X POST http://localhost:8087/connectors \\\n",
    "  -H \"Content-Type: application/json\" \\\n",
    "  -d @postgres-connector.json"
   ]
  },
  {
   "cell_type": "markdown",
   "metadata": {
    "id": "dEaAOIYkBYgd"
   },
   "source": [
    "**3.3 Verify connector created**"
   ]
  },
  {
   "cell_type": "code",
   "execution_count": null,
   "metadata": {
    "id": "UbkyYJ2pBa9O"
   },
   "outputs": [],
   "source": [
    "# Check connector status\n",
    "curl http://localhost:8087/connectors/postgres-connector/status | jq\n",
    "\n",
    "# Output:\n",
    "{\n",
    "  \"name\": \"postgres-connector\",\n",
    "  \"connector\": {\n",
    "    \"state\": \"RUNNING\",  # ← Phải là RUNNING\n",
    "    \"worker_id\": \"debezium:8083\"\n",
    "  },\n",
    "  \"tasks\": [\n",
    "    {\n",
    "      \"id\": 0,\n",
    "      \"state\": \"RUNNING\",  # ← Task cũng phải RUNNING\n",
    "      \"worker_id\": \"debezium:8083\"\n",
    "    }\n",
    "  ]\n",
    "}"
   ]
  },
  {
   "cell_type": "markdown",
   "metadata": {
    "id": "NSVBLkQlBcFl"
   },
   "source": [
    "**🔍 Bước 4: Verify PostgreSQL side effects**"
   ]
  },
  {
   "cell_type": "markdown",
   "metadata": {
    "id": "gaB7udYyBeNO"
   },
   "source": [
    "Debezium đã tạo replication slot và publication trong PostgreSQL:\n"
   ]
  },
  {
   "cell_type": "code",
   "execution_count": null,
   "metadata": {
    "id": "nXDqjVg6BfeW"
   },
   "outputs": [],
   "source": [
    "# Check replication slot\n",
    "docker exec -it postgres_db psql -U admin -d myapp_db -c \"SELECT * FROM pg_replication_slots;\"\n",
    "\n",
    "# Output:\n",
    "#  slot_name      | plugin   | slot_type | active | ...\n",
    "# ----------------+----------+-----------+--------+-----\n",
    "#  debezium_slot  | pgoutput | logical   | t      | ...\n",
    "\n",
    "# Check publication\n",
    "docker exec -it postgres_db psql -U admin -d myapp_db -c \"SELECT * FROM pg_publication;\"\n",
    "\n",
    "# Output:\n",
    "#       pubname          | pubowner | puballtables | ...\n",
    "# ----------------------+----------+--------------+-----\n",
    "#  debezium_publication | 10       | f            | ...\n",
    "\n",
    "# Check publication tables\n",
    "docker exec -it postgres_db psql -U admin -d myapp_db -c \"SELECT * FROM pg_publication_tables;\"\n",
    "\n",
    "# Output:\n",
    "#       pubname          | schemaname | tablename\n",
    "# ----------------------+------------+-----------\n",
    "#  debezium_publication | public     | users"
   ]
  },
  {
   "cell_type": "markdown",
   "metadata": {
    "id": "ZY9JAaznBg39"
   },
   "source": [
    "**📊 Bước 5: Verify Kafka topics created**"
   ]
  },
  {
   "cell_type": "code",
   "execution_count": null,
   "metadata": {
    "id": "mnpVVvGjBim2"
   },
   "outputs": [],
   "source": [
    "# List topics\n",
    "docker exec -it kafka kafka-topics --list --bootstrap-server localhost:9092\n",
    "\n",
    "# Output:\n",
    "# debezium_configs\n",
    "# debezium_offsets\n",
    "# debezium_statuses\n",
    "# postgres.public.users  ← Topic cho table users!\n",
    "\n",
    "# Describe topic\n",
    "docker exec -it kafka kafka-topics \\\n",
    "  --describe \\\n",
    "  --topic postgres.public.users \\\n",
    "  --bootstrap-server localhost:9092\n",
    "\n",
    "# Output:\n",
    "# Topic: postgres.public.users\n",
    "# PartitionCount: 3\n",
    "# ReplicationFactor: 1"
   ]
  },
  {
   "cell_type": "markdown",
   "metadata": {
    "id": "YMA3y9j3Bjee"
   },
   "source": [
    "**👀 Bước 6: Xem snapshot data trong Kafka**"
   ]
  },
  {
   "cell_type": "markdown",
   "metadata": {
    "id": "VGQ5MpZkBkof"
   },
   "source": [
    "Debezium đã snapshot 3 rows ban đầu:\n"
   ]
  },
  {
   "cell_type": "code",
   "execution_count": null,
   "metadata": {
    "id": "PFspzA6KBmb1"
   },
   "outputs": [],
   "source": [
    "# Xem messages\n",
    "docker exec -it kafka kafka-console-consumer \\\n",
    "  --bootstrap-server localhost:9092 \\\n",
    "  --topic postgres.public.users \\\n",
    "  --from-beginning \\\n",
    "  --max-messages 3\n",
    "\n",
    "# Output: 3 JSON messages (snapshot của Alice, Bob, Carol)"
   ]
  },
  {
   "cell_type": "markdown",
   "metadata": {
    "id": "f1Rw96aMBna-"
   },
   "source": [
    "Để xem đẹp hơn với `jq`:\n"
   ]
  },
  {
   "cell_type": "code",
   "execution_count": null,
   "metadata": {
    "id": "j1HliaEiBp7f"
   },
   "outputs": [],
   "source": [
    "docker exec -it kafka kafka-console-consumer \\\n",
    "  --bootstrap-server localhost:9092 \\\n",
    "  --topic postgres.public.users \\\n",
    "  --from-beginning \\\n",
    "  --max-messages 1 | jq"
   ]
  },
  {
   "cell_type": "markdown",
   "metadata": {
    "id": "zNFs7GQ6BsL3"
   },
   "source": [
    "**🧪 Bước 7: Test CDC realtime**"
   ]
  },
  {
   "cell_type": "markdown",
   "metadata": {
    "id": "UIlSi7C9DFfe"
   },
   "source": [
    "**7.1 INSERT data**"
   ]
  },
  {
   "cell_type": "code",
   "execution_count": null,
   "metadata": {
    "id": "jtuuVMk0DI8P"
   },
   "outputs": [],
   "source": [
    "# Terminal 1: Watch Kafka messages\n",
    "docker exec -it kafka kafka-console-consumer \\\n",
    "  --bootstrap-server localhost:9092 \\\n",
    "  --topic postgres.public.users \\\n",
    "  --property print.timestamp=true\n",
    "\n",
    "# Terminal 2: INSERT vào PostgreSQL\n",
    "docker exec -it postgres_db psql -U admin -d myapp_db -c \\\n",
    "  \"INSERT INTO users (name, email) VALUES ('David', 'david@example.com');\""
   ]
  },
  {
   "cell_type": "markdown",
   "metadata": {
    "id": "wrW-rK0tDKR_"
   },
   "source": [
    "**Trong Terminal 1 bạn sẽ thấy message ngay lập tức:**"
   ]
  },
  {
   "cell_type": "code",
   "execution_count": null,
   "metadata": {
    "id": "Tnn_H5J9DMYN"
   },
   "outputs": [],
   "source": [
    "{\n",
    "  \"payload\": {\n",
    "    \"before\": null,\n",
    "    \"after\": {\n",
    "      \"id\": 4,\n",
    "      \"name\": \"David\",\n",
    "      \"email\": \"david@example.com\",\n",
    "      \"created_at\": 1699200060000000\n",
    "    },\n",
    "    \"source\": {\n",
    "      \"snapshot\": \"false\",  // ← Không phải snapshot\n",
    "      \"lsn\": 23456999\n",
    "    },\n",
    "    \"op\": \"c\",  // ← Create (INSERT)\n",
    "    \"ts_ms\": 1699200060123\n",
    "  }\n",
    "}"
   ]
  },
  {
   "cell_type": "markdown",
   "metadata": {
    "id": "qUInNSCsDNV2"
   },
   "source": [
    "**7.2 Test UPDATE**"
   ]
  },
  {
   "cell_type": "code",
   "execution_count": null,
   "metadata": {
    "id": "FlBy_OzMDPWn"
   },
   "outputs": [],
   "source": [
    "# Terminal 2: UPDATE\n",
    "docker exec -it postgres_db psql -U admin -d myapp_db -c \\\n",
    "  \"UPDATE users SET email = 'david.new@example.com' WHERE id = 4;\""
   ]
  },
  {
   "cell_type": "markdown",
   "metadata": {
    "id": "CoZvvNs_DQWd"
   },
   "source": [
    "**Message trong Kafka:**"
   ]
  },
  {
   "cell_type": "code",
   "execution_count": null,
   "metadata": {
    "id": "YE1e2CiiDSO6"
   },
   "outputs": [],
   "source": [
    "{\n",
    "  \"payload\": {\n",
    "    \"before\": {\n",
    "      \"id\": 4,\n",
    "      \"name\": \"David\",\n",
    "      \"email\": \"david@example.com\"\n",
    "    },\n",
    "    \"after\": {\n",
    "      \"id\": 4,\n",
    "      \"name\": \"David\",\n",
    "      \"email\": \"david.new@example.com\"  // ← Changed\n",
    "    },\n",
    "    \"op\": \"u\",  // ← Update\n",
    "    \"ts_ms\": 1699200070456\n",
    "  }\n",
    "}"
   ]
  },
  {
   "cell_type": "markdown",
   "metadata": {
    "id": "-edyrLv7DTiX"
   },
   "source": [
    "**7.3 Test DELETE**"
   ]
  },
  {
   "cell_type": "code",
   "execution_count": null,
   "metadata": {
    "id": "bOo8OaBYDVqw"
   },
   "outputs": [],
   "source": [
    "# Terminal 2: DELETE\n",
    "docker exec -it postgres_db psql -U admin -d myapp_db -c \\\n",
    "  \"DELETE FROM users WHERE id = 4;\""
   ]
  },
  {
   "cell_type": "markdown",
   "metadata": {
    "id": "obtKfyP4DWrH"
   },
   "source": [
    "**Message trong Kafka:**"
   ]
  },
  {
   "cell_type": "code",
   "execution_count": null,
   "metadata": {
    "id": "rN4pT-w1DYpv"
   },
   "outputs": [],
   "source": [
    "{\n",
    "  \"payload\": {\n",
    "    \"before\": {\n",
    "      \"id\": 4,\n",
    "      \"name\": \"David\",\n",
    "      \"email\": \"david.new@example.com\"\n",
    "    },\n",
    "    \"after\": null,  // ← Null vì đã xóa\n",
    "    \"op\": \"d\",  // ← Delete\n",
    "    \"ts_ms\": 1699200080789\n",
    "  }\n",
    "}"
   ]
  },
  {
   "cell_type": "markdown",
   "metadata": {
    "id": "P0h17hkcDZl3"
   },
   "source": [
    "**📊 Bước 8: Monitor với Kafka UI**"
   ]
  },
  {
   "cell_type": "code",
   "execution_count": null,
   "metadata": {
    "id": "YCzo35X2DbhV"
   },
   "outputs": [],
   "source": [
    "# Mở Kafka UI\n",
    "http://localhost:8085\n",
    "\n",
    "# Navigate:\n",
    "Topics → postgres.public.users → Messages\n",
    "\n",
    "# Bạn sẽ thấy:\n",
    "├─ 3 messages snapshot (op: \"r\")\n",
    "├─ 1 INSERT message (op: \"c\")\n",
    "├─ 1 UPDATE message (op: \"u\")\n",
    "└─ 1 DELETE message (op: \"d\")"
   ]
  },
  {
   "cell_type": "markdown",
   "metadata": {
    "id": "B1HxqB58DeOf"
   },
   "source": [
    "**🎯 Bước 9: Verify với Debezium UI**"
   ]
  },
  {
   "cell_type": "code",
   "execution_count": null,
   "metadata": {
    "id": "8gvTmCrcDdSO"
   },
   "outputs": [],
   "source": [
    "# Mở Debezium UI\n",
    "http://localhost:8088\n",
    "\n",
    "# Bạn sẽ thấy:\n",
    "├─ Connector: postgres-connector\n",
    "├─ Status: RUNNING\n",
    "├─ Tasks: 1 (RUNNING)\n",
    "└─ Tables: public.users"
   ]
  },
  {
   "cell_type": "markdown",
   "metadata": {
    "id": "pNKaxM6UDh0S"
   },
   "source": [
    "**✅ Checklist hoàn thành**"
   ]
  },
  {
   "cell_type": "code",
   "execution_count": null,
   "metadata": {
    "id": "9QejDEd5DlMf"
   },
   "outputs": [],
   "source": [
    "# Script để check tất cả\n",
    "cat > check-debezium.sh << 'EOF'\n",
    "#!/bin/bash\n",
    "\n",
    "echo \"=== Debezium CDC Check ===\"\n",
    "\n",
    "echo -e \"\\n1. Containers running:\"\n",
    "docker ps --format \"table {{.Names}}\\t{{.Status}}\" | grep -E \"postgres|kafka|debezium\"\n",
    "\n",
    "echo -e \"\\n2. PostgreSQL WAL level:\"\n",
    "docker exec postgres_db psql -U admin -d myapp_db -t -c \"SHOW wal_level;\"\n",
    "\n",
    "echo -e \"\\n3. Replication slot:\"\n",
    "docker exec postgres_db psql -U admin -d myapp_db -t -c \"SELECT slot_name, active FROM pg_replication_slots;\"\n",
    "\n",
    "echo -e \"\\n4. Debezium connector:\"\n",
    "curl -s http://localhost:8087/connectors\n",
    "\n",
    "echo -e \"\\n5. Connector status:\"\n",
    "curl -s http://localhost:8087/connectors/postgres-connector/status | jq '.connector.state, .tasks[0].state'\n",
    "\n",
    "echo -e \"\\n6. Kafka topics:\"\n",
    "docker exec kafka kafka-topics --list --bootstrap-server localhost:9092 | grep postgres\n",
    "\n",
    "echo -e \"\\n7. Message count:\"\n",
    "docker exec kafka kafka-run-class kafka.tools.GetOffsetShell \\\n",
    "  --broker-list localhost:9092 \\\n",
    "  --topic postgres.public.users 2>/dev/null\n",
    "\n",
    "echo -e \"\\n✅ All checks complete!\"\n",
    "EOF\n",
    "\n",
    "chmod +x check-debezium.sh\n",
    "./check-debezium.sh"
   ]
  },
  {
   "cell_type": "markdown",
   "metadata": {
    "id": "cMZzmtF-DpFG"
   },
   "source": [
    "**🐛 Troubleshooting - Nếu có lỗi**"
   ]
  },
  {
   "cell_type": "markdown",
   "metadata": {
    "id": "V-dGM-2QFzDG"
   },
   "source": [
    "**Problem 1: Connector không RUNNING**"
   ]
  },
  {
   "cell_type": "code",
   "execution_count": null,
   "metadata": {
    "id": "ICDWkL_TF0aW"
   },
   "outputs": [],
   "source": [
    "# Check logs\n",
    "docker logs debezium | tail -50\n",
    "\n",
    "# Common issues:\n",
    "# - Wrong password\n",
    "# - PostgreSQL not reachable\n",
    "# - wal_level not logical"
   ]
  },
  {
   "cell_type": "markdown",
   "metadata": {
    "id": "zQ14nv8mF1-O"
   },
   "source": [
    "**Fix:**"
   ]
  },
  {
   "cell_type": "code",
   "execution_count": null,
   "metadata": {
    "id": "IacFjyAXHYzn"
   },
   "outputs": [],
   "source": [
    "# Test connection\n",
    "docker exec -it debezium bash\n",
    "ping postgres  # Should resolve\n",
    "exit\n",
    "\n",
    "# Verify credentials\n",
    "docker exec postgres_db psql -U admin -d myapp_db -c \"SELECT 1;\""
   ]
  },
  {
   "cell_type": "markdown",
   "metadata": {
    "id": "sS5gULjOHZ_3"
   },
   "source": [
    "**Problem 2: No messages in Kafka**"
   ]
  },
  {
   "cell_type": "code",
   "execution_count": null,
   "metadata": {
    "id": "Zz1NzACbHcaw"
   },
   "outputs": [],
   "source": [
    "# Check replication slot active\n",
    "docker exec postgres_db psql -U admin -d myapp_db -c \\\n",
    "  \"SELECT slot_name, active FROM pg_replication_slots;\"\n",
    "\n",
    "# Output:\n",
    "#  slot_name      | active\n",
    "# ----------------+--------\n",
    "#  debezium_slot  | t       ← Phải là 't' (true)"
   ]
  },
  {
   "cell_type": "markdown",
   "metadata": {
    "id": "CBTARiWsHdpW"
   },
   "source": [
    "**Fix:**"
   ]
  },
  {
   "cell_type": "code",
   "execution_count": null,
   "metadata": {
    "id": "me1tFENSHevh"
   },
   "outputs": [],
   "source": [
    "# Restart connector\n",
    "curl -X POST http://localhost:8087/connectors/postgres-connector/restart"
   ]
  },
  {
   "cell_type": "markdown",
   "metadata": {
    "id": "PVVWVXjxHfoO"
   },
   "source": [
    "**Problem 3: Table not captured**"
   ]
  },
  {
   "cell_type": "code",
   "execution_count": null,
   "metadata": {
    "id": "ZsBR4mHDHhiW"
   },
   "outputs": [],
   "source": [
    "# Check table.include.list trong config\n",
    "curl http://localhost:8087/connectors/postgres-connector | jq '.config.\"table.include.list\"'\n",
    "\n",
    "# Output: \"public.users\""
   ]
  },
  {
   "cell_type": "markdown",
   "metadata": {
    "id": "CD78nfT9Hinn"
   },
   "source": [
    "**Fix:**"
   ]
  },
  {
   "cell_type": "code",
   "execution_count": null,
   "metadata": {
    "id": "UXoynXIUIHIH"
   },
   "outputs": [],
   "source": [
    "# Update config nếu sai\n",
    "curl -X PUT http://localhost:8087/connectors/postgres-connector/config \\\n",
    "  -H \"Content-Type: application/json\" \\\n",
    "  -d '{\n",
    "    ...\n",
    "    \"table.include.list\": \"public.users,public.orders\",\n",
    "    ...\n",
    "  }'"
   ]
  }
 ],
 "metadata": {
  "colab": {
   "provenance": []
  },
  "kernelspec": {
   "display_name": "Python 3 (ipykernel)",
   "language": "python",
   "name": "python3"
  },
  "language_info": {
   "codemirror_mode": {
    "name": "ipython",
    "version": 3
   },
   "file_extension": ".py",
   "mimetype": "text/x-python",
   "name": "python",
   "nbconvert_exporter": "python",
   "pygments_lexer": "ipython3",
   "version": "3.13.5"
  }
 },
 "nbformat": 4,
 "nbformat_minor": 4
}
